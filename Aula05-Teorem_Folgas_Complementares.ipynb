{
 "cells": [
  {
   "cell_type": "markdown",
   "id": "06e32223",
   "metadata": {},
   "source": [
    "# Aula 5 (18/08/2023)"
   ]
  },
  {
   "cell_type": "markdown",
   "id": "e273b3a1",
   "metadata": {},
   "source": [
    "# Teorema das Folgas Complementares\n",
    "\n",
    "Dados o par primal-dual abaixo:\n",
    "\n",
    "**(P)**  \n",
    "$\\text{Minimizar } z = \\boldsymbol c^T \\boldsymbol x$  \n",
    "$\\text{Sujeito a}\\begin{cases}\n",
    "\\boldsymbol{Ax} \\ge \\boldsymbol b \\\\\n",
    "\\boldsymbol x \\ge 0\n",
    "\\end{cases}$  \n",
    "\n",
    "**(D)**  \n",
    "$\\text{Maximizar } y = \\boldsymbol w^T \\boldsymbol b$ \n",
    "$\\text{Sujeito a}\\begin{cases}\n",
    "\\boldsymbol{A^T w} \\le \\boldsymbol c \\\\\n",
    "\\boldsymbol w \\ge 0\n",
    "\\end{cases}$  \n",
    "\n",
    "e sejam $\\boldsymbol{\\bar x}$ e $\\boldsymbol{\\bar w}$ soluções viáveis para **(P)** e **(D)**, respectivamente. Elas serão as soluções ótimas se, e somente se:\n",
    "\n",
    "$\\text{I)}\\ \\boldsymbol{A\\bar x}\\ge \\boldsymbol b,\\ \\boldsymbol{\\bar x} \\ge \\boldsymbol 0$  \n",
    "$\\text{II)}\\ \\boldsymbol{A^T \\bar w} \\le \\boldsymbol c,\\ \\boldsymbol{\\bar w} \\ge \\boldsymbol 0$  \n",
    "$\\text{III)}\\ \\boldsymbol{\\bar w} (\\boldsymbol{A\\bar x} - \\boldsymbol b)=\\boldsymbol 0\\ \\text{e}\\ (\\boldsymbol{A^T\\bar w} - \\boldsymbol b)\\boldsymbol{\\bar x}=\\boldsymbol 0$  \n",
    "$\\implies \\boldsymbol{\\bar w}=\\boldsymbol 0\\ \\text{ou}\\ (\\boldsymbol{A\\bar x} - \\boldsymbol b)=\\boldsymbol 0 \\text{, e}\\ \\boldsymbol{\\bar x}=\\boldsymbol 0\\ \\text{ou}\\ (\\boldsymbol{A^T\\bar w} - \\boldsymbol b)=\\boldsymbol 0 \n",
    "$  \n",
    "\n",
    "Isto é, folga na restrição implica em solução zero, e solução diferente de zero implica em ausência de folga na restrição."
   ]
  },
  {
   "cell_type": "markdown",
   "id": "9ba3be0d",
   "metadata": {},
   "source": [
    "## Exemplo 1\n",
    "\n",
    "$\\text{Maximizar}\\ \\color{green}{3} x_1 + \\color{green}{3} x_2 + \\color{green}{21} x_3$  \n",
    "$\\text{Sujeito a}\\begin{cases}\n",
    "\\color{red}{6} x_1 + \\color{red}{9} x_2 + \\color{red}{25} x_3 \\ge \\color{purple}{25} \\\\\n",
    "\\color{blue}{3} x_1 + \\color{blue}{2} x_2 + \\color{blue}{25} x_3 \\ge \\color{purple}{20} \\\\\n",
    "x_1,\\ x_2,\\ x_3\\ \\ge 0\n",
    "\\end{cases}$  \n",
    "\n",
    "*Solução:*\n",
    "\n",
    "O problema dual associado ao problema acima é:\n",
    "\n",
    "$\\text{Minimizar}\\ \\color{purple}{25} w_1 + \\color{purple}{20} w_2$  \n",
    "$\\text{Sujeito a}\\begin{cases}\n",
    "\\color{red}{6} w_1 + \\color{blue}{3} w_2 \\ge \\color{green}{3} \\\\\n",
    "\\color{red}{9} w_1 + \\color{blue}{2} w_2 \\ge \\color{green}{3} \\\\\n",
    "\\color{red}{25} w_1 + \\color{blue}{25} w_2 \\ge \\color{green}{21} \\\\\n",
    "w_1,\\ w_2 \\ge 0\n",
    "\\end{cases}$ \n",
    "\n",
    "Usando o [Método Simplex](https://otimizacao.js.org/simplex.html), teremos que $w_1^*=0,1886$ e $w_2^*=0,6514$.\n",
    "\n",
    "Substituindo $w_1^*$ e $w_2^*$ nas restrições do dual:  \n",
    "$\\begin{cases}\n",
    "6w_1^* + 3w_2^* = 3,0858\\ \\text{(há folga)}\\implies x_1^*=0\\\\\n",
    "9w_1^* + 2w_2^* = 3,0002\\ \\text{(não há folga)} \\\\\n",
    "25w_1^* + 25w_2^* = 21\\ \\text{(não há folga)}\n",
    "\\end{cases}$  \n",
    "\n",
    "Além disso, $w_1^* \\ne 0$ e $w_2^* \\ne 0$ implicam na ausência de folga nas restrições do primal. Então:  \n",
    "$\\begin{cases}\n",
    "6x_1^* + 9x_2^* + 25x_3^* = 25 \\\\\n",
    "3x_1^* + 2x_2^* + 25x_3^* = 20\n",
    "\\end{cases}\n",
    "\\implies\n",
    "\\begin{cases}\n",
    "9x_2^* + 25x_3^* = 25\\ \\text{(I)}\\\\\n",
    "2x_2^* + 25x_3^* = 20\\ \\text{(II)}\n",
    "\\end{cases}$  \n",
    "\n",
    "Fazendo $\\text{(I)}-\\text{(II)}$, temos:  \n",
    "$9x_2^* - 2x_2^* + 25x_3^* - 25x_3^*=25-20 \\iff 7x_2^*=5 \\iff x_2^*=5/7$  \n",
    "\n",
    "Substituindo $x_2^*$ em $\\text{(II)}$:  \n",
    "$10/7 + 25x_3^*=20 \\iff 2/7 + 5x_3^*=4 \\iff 5x_3^*=(28-2)/7 \\iff x_3^*=26/35$  \n",
    "\n",
    "Portanto, a solução ótima do problema primal é $x_1^*=0,\\ x_2^*=5/7,\\ x_3^*=26/35$."
   ]
  },
  {
   "cell_type": "markdown",
   "id": "6c946010",
   "metadata": {},
   "source": [
    "## Exemplo 2\n",
    "\n",
    "$\\text{Minimizar}\\ \\color{green}{2} x_1 + \\color{green}{3} x_2 + \\color{green}{5} x_3 + \\color{green}{2}x_4 + \\color{green}{3} x_5$  \n",
    "$\\text{Sujeito a}\\begin{cases}\n",
    "\\color{red}{1} x_1 +\\color{red}{1} x_2 + \\color{red}{2} x_3 + \\color{red}{1} x_4 + \\color{red}{3} x_5 \\ge \\color{purple}{4} \\\\\n",
    "\\color{blue}{2} x_1 \\color{blue}{-2}x_2 + \\color{blue}{3} x_3 + \\color{blue}{1} x_4 + \\color{blue}{1} x_5 \\ge \\color{purple}{3} \\\\\n",
    "x_1,\\ x_2,\\ x_3,\\ x_4,\\ x_5 \\ge 0\n",
    "\\end{cases}$  \n",
    "\n",
    "*Solução:*\n",
    "\n",
    "O problema dual associado ao problema acima é:\n",
    "\n",
    "$\\text{Maximizar}\\ \\color{purple}{4} w_1 + \\color{purple}{3} w_2$  \n",
    "$\\text{Sujeito a}\\begin{cases}\n",
    "\\color{red}{1} w_1 + \\color{blue}{2} w_2 \\le \\color{green}{2} \\\\\n",
    "\\color{red}{1} w_1 \\color{blue}{-2} w_2 \\le \\color{green}{3} \\\\\n",
    "\\color{red}{2} w_1 + \\color{blue}{3} w_2 \\le \\color{green}{5} \\\\\n",
    "\\color{red}{1} w_1 + \\color{blue}{1} w_2 \\le \\color{green}{2} \\\\\n",
    "\\color{red}{3} w_1 + \\color{blue}{1} w_2 \\le \\color{green}{3} \\\\\n",
    "w_1,\\ w_2 \\ge 0\n",
    "\\end{cases}$  \n",
    "\n",
    "Usando o [Método Simplex](https://otimizacao.js.org/simplex.html), teremos que $w_1^*=0,8$ e $w_2^*=0,6$.\n",
    "\n",
    "Substituindo $w_1^*$ e $w_2^*$ nas restrições do dual:  \n",
    "$\\begin{cases}\n",
    "w_1^* + 2w_2^* = 2\\ \\text{(não há folga)} \\\\\n",
    "w_1^* -2w_2^* = -0,4\\ \\text{(há folga)}\\implies x_2^*=0\\\\\n",
    "2w_1^* +3w_2^* = 3,4\\ \\text{(há folga)}\\implies x_3^*=0\\\\\n",
    "w_1^* +w_2^* = 1,4\\ \\text{(há folga)}\\implies x_4^*=0\\\\\n",
    "3w_1^* +w_2^* = 3\\ \\text{(não há folga)}\n",
    "\\end{cases}$  \n",
    "\n",
    "Além disso, $w_1^* \\ne 0$ e $w_2^* \\ne 0$ implicam na ausência de folga nas restrições do primal.  \n",
    "$\\begin{cases}\n",
    "x_1^* + x_2^* + 2x_3^* + x_4^* + 3x_5^* = 4 \\\\\n",
    "2x_1^* -2x_2^* + 3x_3^* + x_4^* + x_5^* = 3\n",
    "\\end{cases}\n",
    "\\implies\n",
    "\\begin{cases}\n",
    "x_1^* + 3x_5^* = 4 \\text{ (I)}\\\\\n",
    "2x_1^* + x_5^* = 3 \\text{ (II)}\n",
    "\\end{cases}$  \n",
    "\n",
    "Fazendo $2\\cdot\\text{(I)}-\\text{(II)}$, temos:  \n",
    "$2x_1^* - 2x_1^* + 6x_5^* - x_5^*=8-3 \\iff 5x_5^*=5 \\iff x_5^*=1$  \n",
    "\n",
    "Substituindo $x_5^*$ em $\\text{(I)}$:  \n",
    "$x_1^* + 3=4 \\iff x_1^*=1$  \n",
    "\n",
    "Portanto, a solução ótima do problema primal é $x_1^*=1,\\ x_2^*=x_3^*=x_4^*=0,\\ x_5^*=1$."
   ]
  },
  {
   "cell_type": "markdown",
   "id": "e86780d6",
   "metadata": {},
   "source": [
    "## Computacionalmente:\n",
    "\n",
    "Resolvendo o problema do exemplo 2 usando a linguagem `Julia`:"
   ]
  },
  {
   "cell_type": "code",
   "execution_count": null,
   "id": "8294dc59",
   "metadata": {},
   "outputs": [],
   "source": [
    "# Installando os pacotes\n",
    "Pkg.add(\"JuMP\")\n",
    "Pkg.add(\"GLPK\")"
   ]
  },
  {
   "cell_type": "code",
   "execution_count": 1,
   "id": "74fea949",
   "metadata": {},
   "outputs": [],
   "source": [
    "# Bibliotecas a serem usadas\n",
    "using JuMP, GLPK"
   ]
  },
  {
   "cell_type": "code",
   "execution_count": 2,
   "id": "598e23c2",
   "metadata": {},
   "outputs": [
    {
     "data": {
      "text/latex": [
       "$$ \\begin{aligned}\n",
       "\\min\\quad & 2 x1 + 3 x2 + 5 x3 + 2 x4 + 3 x5\\\\\n",
       "\\text{Subject to} \\quad & x1 + x2 + 2 x3 + x4 + 3 x5 \\geq 4\\\\\n",
       " & 2 x1 - 2 x2 + 3 x3 + x4 + x5 \\geq 3\\\\\n",
       " & x1 \\geq 0\\\\\n",
       " & x2 \\geq 0\\\\\n",
       " & x3 \\geq 0\\\\\n",
       " & x4 \\geq 0\\\\\n",
       " & x5 \\geq 0\\\\\n",
       "\\end{aligned} $$"
      ]
     },
     "metadata": {},
     "output_type": "display_data"
    }
   ],
   "source": [
    "# Gerando um problema de programação linear\n",
    "model=Model(GLPK.Optimizer)\n",
    "\n",
    " #Variáveis\n",
    "@variables(model,begin\n",
    "        x1 >=0\n",
    "        x2 >=0\n",
    "        x3 >=0\n",
    "        x4 >=0\n",
    "        x5 >=0\n",
    "    end)\n",
    "# Função Objetivo\n",
    "@objective(model,Min, 2*x1+3*x2+5*x3+2*x4+3*x5)\n",
    "\n",
    "# Restrições\n",
    "@constraint(model,x1+x2+2*x3+x4+3*x5>=4) \n",
    "@constraint(model,2*x1-2*x2+3*x3+x4+x5>=3)\n",
    "\n",
    "# Descrição do problema\n",
    "print(model)"
   ]
  },
  {
   "cell_type": "code",
   "execution_count": 3,
   "id": "79d00607",
   "metadata": {},
   "outputs": [],
   "source": [
    "# Encontrando a solução do Modelo\n",
    "optimize!(model)"
   ]
  },
  {
   "cell_type": "code",
   "execution_count": 4,
   "id": "ba982858",
   "metadata": {
    "scrolled": true
   },
   "outputs": [
    {
     "name": "stdout",
     "output_type": "stream",
     "text": [
      "Valor de x1 = 1.0\n",
      "Valor de x2 = 0.0\n",
      "Valor de x3 = 0.0\n",
      "Valor de x4 = 0.0\n",
      "Valor de x5 = 0.9999999999999998\n"
     ]
    }
   ],
   "source": [
    "# Valores da solução ótima\n",
    "println(\"Valor de x1 = \",value(x1))\n",
    "println(\"Valor de x2 = \", value(x2))\n",
    "println(\"Valor de x3 = \", value(x3))\n",
    "println(\"Valor de x4 = \", value(x4))\n",
    "println(\"Valor de x5 = \", value(x5))"
   ]
  }
 ],
 "metadata": {
  "kernelspec": {
   "display_name": "Julia 1.9.2",
   "language": "julia",
   "name": "julia-1.9"
  },
  "language_info": {
   "file_extension": ".jl",
   "mimetype": "application/julia",
   "name": "julia",
   "version": "1.9.2"
  }
 },
 "nbformat": 4,
 "nbformat_minor": 5
}
