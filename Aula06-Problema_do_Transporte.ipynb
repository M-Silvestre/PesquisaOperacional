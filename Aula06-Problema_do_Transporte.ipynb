{
 "cells": [
  {
   "cell_type": "markdown",
   "id": "a0e7fe0a",
   "metadata": {},
   "source": [
    "# Aula 06 (25/08/2023)"
   ]
  },
  {
   "cell_type": "markdown",
   "id": "41efd87f",
   "metadata": {},
   "source": [
    "# Problema do Transporte\n",
    "\n",
    "Suponha um problema onde o objetivo é minimizar o custo total do transporte de mercadorias entre as fábricas ou centros de distribuição e seus clientes."
   ]
  },
  {
   "cell_type": "markdown",
   "id": "0b408b1a",
   "metadata": {},
   "source": [
    "<img src=\"ProblemaTransporte1.png\" width=\"500\" height=\"500\">"
   ]
  },
  {
   "cell_type": "markdown",
   "id": "3430ab9f",
   "metadata": {},
   "source": [
    "Essa situação pode ser vista como um problema de programação linear, onde os dados são:  \n",
    "- as capacidades das fábricas;  \n",
    "- as demandas dos clientes;  \n",
    "- $c_{ij}:$ capacidade de transporte de uma unidade de mercadoria da fábrica $i$ para o cliente $j$;  \n",
    "- $X_{ij}:$ quantidade de mercadoria a ser transportada da fábrica $i$ para o cliente $j$.  \n",
    "\n",
    "$\\text{Maximizar}\\ 2X_{13}+4X_{14}+5X_{15}+3X_{23}+2X_{24}+3X_{25}$  \n",
    "$\\text{Sujeito a}\n",
    "    \\begin{cases}\n",
    "        \\left. \\begin{array}{l}\n",
    "            X_{13}+X_{14}+X_{15} \\le 200 \\\\\n",
    "            X_{23}+X_{24}+X_{25} \\le 250 \\\\\n",
    "        \\end{array}\\right\\} \\text{Restrições de capacidade} \\\\\n",
    "        \\left. \\begin{array}{l}\n",
    "            X_{13}+X_{23} \\ge 100 \\\\\n",
    "            X_{14}+X_{24} \\ge 200 \\\\\n",
    "            X_{15}+X_{25} \\ge 150 \\\\\n",
    "        \\end{array}\\right\\}\\ \\text{Restrições de demanda} \\\\\n",
    "    X_{13},\\ X_{14},\\ X_{15},\\ X_{23},\\ X_{24},\\ X_{25} \\ge 0\n",
    "    \\end{cases}$  "
   ]
  },
  {
   "cell_type": "markdown",
   "id": "1622d658",
   "metadata": {},
   "source": [
    "## Exemplo (página 34 do livro)\n",
    "\n",
    "Uma Vinícola tem a sua produção de vinhos em duas regiões do Brasil: Uma na região Nordeste, no Vale do São Francisco, que produz 700 mil litros e uma na região Sul, no Vale dos Vinhedos, que produz 950 mil litros. Essa vinícola transporta sua produção -ara 4 grandes distribuidores. No quadro abaixo encontram-se as informações de capacidade das indústrias, demandas dos distribuidoresm e custos de transporte. Modele o problema de forma que a vinícola gaste o mínimo oara transportar seus produtos até os drstribuidores.\n",
    "\n",
    "\n",
    "| Produção | Dist. 1 | Dist. 2 | Dist. 3 | Dist. 4 | Capacidade (milhares de litros) |\n",
    "|:---|:---:|:---:|:---:|:---:|:---:|\n",
    "| Vale do São Francisco | 14 | 5 | 7 | 9 | 700.000 |\n",
    "| Vale dos Vinhedos | 4 | 10 | 12 | 7 | 950.000 |\n",
    "| Demanda (milhares de litros) | 450.000 | 380.000 | 400.000 | 420.000 | - |"
   ]
  },
  {
   "cell_type": "markdown",
   "id": "5f65c7e0",
   "metadata": {},
   "source": [
    "*Solução:*\n",
    "\n",
    "O problema acima tem a forma:\n",
    "\n",
    "$\\text{Minimizar}\\ 14X_{13}+5X_{14}+7X_{15}+9X_{16}+X_{23}+10X_{24}+12X_{25}+7X_{26}$  \n",
    "$\\text{Sujeito a}\n",
    "    \\begin{cases}\n",
    "        \\left. \\begin{array}{l}\n",
    "            X_{13}+X_{14}+X_{15}+X_{16} \\le 700000 \\\\\n",
    "            X_{23}+X_{24}+X_{25}+X_{26} \\le 950000 \\\\\n",
    "        \\end{array}\\right\\}\\ \\text{Restrições de capacidade} \\\\\n",
    "        \\left. \\begin{array}{l}\n",
    "            X_{13}+X_{23} \\ge 450000 \\\\\n",
    "            X_{14}+X_{24} \\ge 380000 \\\\\n",
    "            X_{15}+X_{25} \\ge 400000 \\\\\n",
    "            X_{16}+X_{26} \\ge 420000 \\\\\n",
    "        \\end{array}\\right\\}\\ \\text{Restrições de demanda} \\\\\n",
    "    X_{13},\\ X_{14},\\ X_{15},\\ X_{16},\\ X_{23},\\ X_{24},\\ X_{25},\\ X_{26} \\ge 0\n",
    "\\end{cases}$  "
   ]
  },
  {
   "cell_type": "code",
   "execution_count": 5,
   "id": "e0b8feb7",
   "metadata": {},
   "outputs": [],
   "source": [
    "# Bibliotecas a serem usadas\n",
    "using JuMP, GLPK"
   ]
  },
  {
   "cell_type": "code",
   "execution_count": 12,
   "id": "40088af1",
   "metadata": {},
   "outputs": [
    {
     "name": "stdout",
     "output_type": "stream",
     "text": [
      "((1, 3), (1, 4), (1, 5), (1, 6), (2, 3), (2, 4), (2, 5), (2, 6))"
     ]
    }
   ],
   "source": [
    "# Custos\n",
    "c=[14, 5, 7, 9, 4, 10, 12, 7]\n",
    "# Capacidades e demandas\n",
    "b=[700000, 950000, 450000, 380000, 400000, 420000]\n",
    "\n",
    "# Índices das variáveis\n",
    "start_node = [1,1,1,1,2,2,2,2]\n",
    "end_node = [3,4,5,6,3,4,5,6]\n",
    "\n",
    "links = Tuple( (start_node[i], end_node[i]) for i in 1:length(end_node) )\n",
    "c_dict = Dict(links .=> c)\n",
    "print(links)"
   ]
  },
  {
   "cell_type": "code",
   "execution_count": 15,
   "id": "2bbfd3a1",
   "metadata": {},
   "outputs": [
    {
     "name": "stdout",
     "output_type": "stream",
     "text": [
      "Min 14 x[(1, 3)] + 5 x[(1, 4)] + 7 x[(1, 5)] + 9 x[(1, 6)] + 4 x[(2, 3)] + 10 x[(2, 4)] + 12 x[(2, 5)] + 7 x[(2, 6)]\n",
      "Subject to\n",
      " x[(1, 3)] + x[(1, 4)] + x[(1, 5)] + x[(1, 6)] == 700000\n",
      " x[(2, 3)] + x[(2, 4)] + x[(2, 5)] + x[(2, 6)] == 950000\n",
      " x[(1, 3)] + x[(2, 3)] <= 450000\n",
      " x[(1, 4)] + x[(2, 4)] <= 380000\n",
      " x[(1, 5)] + x[(2, 5)] <= 400000\n",
      " x[(1, 6)] + x[(2, 6)] <= 420000\n",
      " x[(1, 3)] >= 0\n",
      " x[(1, 4)] >= 0\n",
      " x[(1, 5)] >= 0\n",
      " x[(1, 6)] >= 0\n",
      " x[(2, 3)] >= 0\n",
      " x[(2, 4)] >= 0\n",
      " x[(2, 5)] >= 0\n",
      " x[(2, 6)] >= 0\n",
      "\n"
     ]
    }
   ],
   "source": [
    "# Modelo\n",
    "model = Model(GLPK.Optimizer)\n",
    "\n",
    "# Variáveis\n",
    "@variable(model, x[link in links]>=0)\n",
    "\n",
    "# Função objetivo\n",
    "@objective(model, Min, sum(c_dict[link] * x[link] for link in links))\n",
    "\n",
    "# Restrições de capacidade\n",
    "for i in 1:2\n",
    "   @constraint(model, sum(x[(ii,j)] for (ii,j) in links if ii==i) == b[i])\n",
    "end\n",
    "# Restrições de demandas\n",
    "for j in 3:6\n",
    "   @constraint(model, sum(x[(i,jj)] for (i,jj) in links if jj==j) <= b[j])\n",
    "end\n",
    "\n",
    "# Descrição do  modelo\n",
    "println(model)"
   ]
  },
  {
   "cell_type": "code",
   "execution_count": 16,
   "id": "18aca564",
   "metadata": {},
   "outputs": [
    {
     "name": "stdout",
     "output_type": "stream",
     "text": [
      "Função Objetivo: FO=9.84e6\n",
      "Valor de x(1, 3) = 0.0\n",
      "Valor de x(1, 4) = 380000.0\n",
      "Valor de x(1, 5) = 320000.0\n",
      "Valor de x(1, 6) = 0.0\n",
      "Valor de x(2, 3) = 450000.0\n",
      "Valor de x(2, 4) = 0.0\n",
      "Valor de x(2, 5) = 80000.0\n",
      "Valor de x(2, 6) = 420000.0\n"
     ]
    }
   ],
   "source": [
    "# Otimização do modelo\n",
    "optimize!(model)\n",
    "obj = objective_value(model)\n",
    "\n",
    "# Resultados\n",
    "println(\"Função Objetivo: FO=\", obj)\n",
    "for link in links\n",
    "  println(\"Valor de x\",link,\" = \",value(x[link]))\n",
    "end"
   ]
  },
  {
   "cell_type": "markdown",
   "id": "c78abeb2",
   "metadata": {},
   "source": [
    "# Problema desbalanceado\n",
    "\n",
    "No caso de um problema desbalanceado, isto é, existe diferença entre a soma das capacidades e a soma das demandas, o problema não terá solução. Uma maneira de contornar esse situação é a criação de nós *dummy* de capacidade ou demanda de custo elevado para conter o excesso.\n",
    "\n",
    "## Exemplo"
   ]
  },
  {
   "cell_type": "markdown",
   "id": "0c8979e9",
   "metadata": {},
   "source": [
    "<img src=\"ProblemaTransporte2.png\" width=\"500\" height=\"500\">"
   ]
  },
  {
   "cell_type": "markdown",
   "id": "8aa5b029",
   "metadata": {},
   "source": [
    "$\\text{Minimizar}\\ X_{13}+3X_{14} \\color{purple}{+20X_{15}}\\color{black}{+5X_{23}+2X_{24}}\\color{purple}{+10X_{25}}$  \n",
    "$\\text{Sujeito a}\n",
    "    \\begin{cases}\n",
    "        \\left. \\begin{array}{l}\n",
    "            X_{13}+X_{14}\\color{purple}{+X_{15}}\\color{purple}{\\le 250}\\\\\n",
    "            X_{23}+X_{24}\\color{purple}{+X_{25}}\\color{purple}{\\le 500}\\\\\n",
    "        \\end{array}\\right\\} \\text{Restrições de capacidade} \\\\\n",
    "        \\left. \\begin{array}{l}\n",
    "            X_{13}+X_{23} \\ge 300 \\\\\n",
    "            X_{14}+X_{24} \\ge 150 \\\\\n",
    "            \\color{purple}{X_{15}+X_{25} \\ge 300} \\\\\n",
    "        \\end{array}\\right\\}\\ \\text{Restrições de demanda} \\\\\n",
    "    X_{13},\\ 4X_{14},\\ \\color{purple}{X_{15},}\\ \\color{black}{X_{23},\\ X_{24},}\\ \\color{purple}{X_{25}} \\color{black}{\\ge 0}\n",
    "\\end{cases}$ "
   ]
  },
  {
   "cell_type": "code",
   "execution_count": 17,
   "id": "ab9676d1",
   "metadata": {},
   "outputs": [
    {
     "name": "stdout",
     "output_type": "stream",
     "text": [
      "((1, 3), (1, 4), (1, 5), (2, 3), (2, 4), (2, 5))"
     ]
    }
   ],
   "source": [
    "# Custos\n",
    "c=[1, 3, 20, 5, 2, 10]\n",
    "# Capacidades e demandas\n",
    "b=[250, 500, 300, 150, 300]\n",
    "\n",
    "# Índices das variáveis\n",
    "start_node = [1,1,1,2,2,2]\n",
    "end_node = [3,4,5,3,4,5]\n",
    "\n",
    "links = Tuple( (start_node[i], end_node[i]) for i in 1:length(end_node) )\n",
    "c_dict = Dict(links .=> c)\n",
    "print(links)"
   ]
  },
  {
   "cell_type": "code",
   "execution_count": 19,
   "id": "089964ac",
   "metadata": {},
   "outputs": [
    {
     "name": "stdout",
     "output_type": "stream",
     "text": [
      "Min x[(1, 3)] + 3 x[(1, 4)] + 20 x[(1, 5)] + 5 x[(2, 3)] + 2 x[(2, 4)] + 10 x[(2, 5)]\n",
      "Subject to\n",
      " x[(1, 3)] + x[(1, 4)] + x[(1, 5)] == 250\n",
      " x[(2, 3)] + x[(2, 4)] + x[(2, 5)] == 500\n",
      " x[(1, 3)] + x[(2, 3)] <= 300\n",
      " x[(1, 4)] + x[(2, 4)] <= 150\n",
      " x[(1, 5)] + x[(2, 5)] <= 300\n",
      " x[(1, 3)] >= 0\n",
      " x[(1, 4)] >= 0\n",
      " x[(1, 5)] >= 0\n",
      " x[(2, 3)] >= 0\n",
      " x[(2, 4)] >= 0\n",
      " x[(2, 5)] >= 0\n",
      "\n"
     ]
    }
   ],
   "source": [
    "# Modelo\n",
    "model = Model(GLPK.Optimizer)\n",
    "\n",
    "# Variáveis\n",
    "@variable(model, x[link in links]>=0)\n",
    "\n",
    "# Função objetivo\n",
    "@objective(model, Min, sum(c_dict[link] * x[link] for link in links))\n",
    "\n",
    "# Restrições de capacidade\n",
    "for i in 1:2\n",
    "   @constraint(model, sum(x[(ii,j)] for (ii,j) in links if ii==i) == b[i])\n",
    "end\n",
    "# Restrições de demandas\n",
    "for j in 3:5\n",
    "   @constraint(model, sum(x[(i,jj)] for (i,jj) in links if jj==j) <= b[j])\n",
    "end\n",
    "\n",
    "# Descrição do  modelo\n",
    "println(model)"
   ]
  },
  {
   "cell_type": "code",
   "execution_count": 20,
   "id": "8f3c2b5f",
   "metadata": {},
   "outputs": [
    {
     "name": "stdout",
     "output_type": "stream",
     "text": [
      "Função Objetivo: FO=3800.0\n",
      "Valor de x(1, 3) = 250.0\n",
      "Valor de x(1, 4) = 0.0\n",
      "Valor de x(1, 5) = 0.0\n",
      "Valor de x(2, 3) = 50.0\n",
      "Valor de x(2, 4) = 150.0\n",
      "Valor de x(2, 5) = 300.0\n"
     ]
    }
   ],
   "source": [
    "# Otimização do modelo\n",
    "optimize!(model)\n",
    "obj = objective_value(model)\n",
    "\n",
    "# Resultados\n",
    "println(\"Função Objetivo: FO=\", obj)\n",
    "for link in links\n",
    "  println(\"Valor de x\",link,\" = \",value(x[link]))\n",
    "end"
   ]
  },
  {
   "cell_type": "markdown",
   "id": "146931e8",
   "metadata": {},
   "source": [
    "# Exercícios\n",
    "\n",
    "Coloque os exercícios abaixo no modelo do problema de transportes utilizando a linguagem Julia e resolva-os."
   ]
  },
  {
   "cell_type": "markdown",
   "id": "7883b0a6",
   "metadata": {},
   "source": [
    "**1.** Uma empresa fabricante de bicicletas possui 3 fábricas localizadas no Rio, São Paulo e Belo Horizonte. A produção deve ser entregue em Recife, Salvador e Manaus. Considerando os custos de transporte unitários, as capacidades de produção e as demandas dos centros consumidores que estão especificados na tabela a seguir, determine quanto deve ser produzido e entregue por cada fábrica em cada centro consumidor de forma a minimizar os custos de transporte.\n",
    "\n",
    "| | Centro de Recife | Centro Salvador | Centro Manaus | Capacidade |\n",
    "|:---:|:---:|:---:|:---:|:---:|\n",
    "| Rio | 25 | 20 | 30 | 2000 |\n",
    "| São Paulo | 30 | 25 | 25 | 1500 |\n",
    "| Belo Horizonte | 20 | 15 | 3 | 1500 |\n",
    "| Demanda | 2000 | 2000 | 2000 | 5000 |\n",
    "\n",
    "*Solução:*"
   ]
  },
  {
   "cell_type": "code",
   "execution_count": 23,
   "id": "b8d7b0a3",
   "metadata": {},
   "outputs": [
    {
     "name": "stdout",
     "output_type": "stream",
     "text": [
      "((1, 4), (1, 5), (1, 6), (2, 4), (2, 5), (2, 6), (3, 4), (3, 5), (3, 6))"
     ]
    }
   ],
   "source": [
    "# Custos\n",
    "c=[25, 20, 30, 30, 25, 25, 20, 15, 23]\n",
    "# Capacidades e demandas\n",
    "b=[2000, 1500, 1200, 2000, 2000, 1000]\n",
    "\n",
    "start_node = [1,1,1,2,2,2,3,3,3]\n",
    "end_node = [4,5,6,4,5,6,4,5,6]\n",
    "\n",
    "# Índices das variáveis\n",
    "links = Tuple( (start_node[i], end_node[i]) for i in 1:length(end_node) )\n",
    "c_dict = Dict(links .=> c)\n",
    "print(links)"
   ]
  },
  {
   "cell_type": "code",
   "execution_count": 25,
   "id": "4d7d3738",
   "metadata": {},
   "outputs": [
    {
     "name": "stdout",
     "output_type": "stream",
     "text": [
      "Min 25 x[(1, 4)] + 20 x[(1, 5)] + 30 x[(1, 6)] + 30 x[(2, 4)] + 25 x[(2, 5)] + 25 x[(2, 6)] + 20 x[(3, 4)] + 15 x[(3, 5)] + 23 x[(3, 6)]\n",
      "Subject to\n",
      " x[(1, 4)] + x[(1, 5)] + x[(1, 6)] == 2000\n",
      " x[(2, 4)] + x[(2, 5)] + x[(2, 6)] == 1500\n",
      " x[(3, 4)] + x[(3, 5)] + x[(3, 6)] == 1200\n",
      " x[(1, 4)] + x[(2, 4)] + x[(3, 4)] <= 2000\n",
      " x[(1, 5)] + x[(2, 5)] + x[(3, 5)] <= 2000\n",
      " x[(1, 6)] + x[(2, 6)] + x[(3, 6)] <= 1000\n",
      " x[(1, 4)] >= 0\n",
      " x[(1, 5)] >= 0\n",
      " x[(1, 6)] >= 0\n",
      " x[(2, 4)] >= 0\n",
      " x[(2, 5)] >= 0\n",
      " x[(2, 6)] >= 0\n",
      " x[(3, 4)] >= 0\n",
      " x[(3, 5)] >= 0\n",
      " x[(3, 6)] >= 0\n",
      "\n"
     ]
    }
   ],
   "source": [
    "# Modelo\n",
    "model = Model(GLPK.Optimizer)\n",
    "\n",
    "# Variáveis\n",
    "@variable(model, x[link in links]>=0)\n",
    "\n",
    "# Função objetivo\n",
    "@objective(model, Min, sum(c_dict[link] * x[link] for link in links))\n",
    "\n",
    "# Restrições de capacidade\n",
    "for i in 1:3 \n",
    "   @constraint(model, sum(x[(ii,j)] for (ii,j) in links if ii==i) == b[i])\n",
    "end\n",
    "# Restrições de capacidade\n",
    "for j in 4:6 \n",
    "   @constraint(model, sum(x[(i,jj)] for (i,jj) in links if jj==j) <= b[j])\n",
    "end\n",
    "\n",
    "# Descrição do  modelo\n",
    "println(model)"
   ]
  },
  {
   "cell_type": "code",
   "execution_count": 26,
   "id": "cae814a7",
   "metadata": {},
   "outputs": [
    {
     "name": "stdout",
     "output_type": "stream",
     "text": [
      "Função Objetivo: FO=104000.0\n",
      "Valor de x(1, 4) = 1700.0\n",
      "Valor de x(1, 5) = 300.0\n",
      "Valor de x(1, 6) = 0.0\n",
      "Valor de x(2, 4) = 0.0\n",
      "Valor de x(2, 5) = 500.0\n",
      "Valor de x(2, 6) = 1000.0\n",
      "Valor de x(3, 4) = 0.0\n",
      "Valor de x(3, 5) = 1200.0\n",
      "Valor de x(3, 6) = 0.0\n"
     ]
    }
   ],
   "source": [
    "# Otimização do modelo\n",
    "optimize!(model)\n",
    "obj = objective_value(model)\n",
    "\n",
    "# Resultados\n",
    "println(\"Função Objetivo: FO=\", obj)\n",
    "for link in links\n",
    "  println(\"Valor de x\",link,\" = \",value(x[link]))\n",
    "end"
   ]
  },
  {
   "cell_type": "markdown",
   "id": "2f214926",
   "metadata": {},
   "source": [
    "**2.** Miss Daisy Ltda é um laboratório de manipulação que presta serviços de entrega para idosos. A empresa possui duas filiais e fornece o serviço a seis bairros diferentes. As capacidades das filiais, as demandas dos bairros e os custos unitários de entrega estão evidenciados na tabela a seguir. Quais clientes atender, a partir de cada filial, de maneira a minimizar o seu custo de entrega?\n",
    "\n",
    "| | Ipanema | Copacabana | Centro | Barra | Leblon | Tijuca | capacidade |\n",
    "|:---:|:---:|:---:|:---:|:---:|:---:|:---:|:---:|\n",
    "| Filial Centro | 7,00 | 9,00 | 1,00 | 12,00 | 7,00 | 4,00 | 2500,00 |\n",
    "| Filial Barra | 4,00 | 5,00 | 12,00 | 1,00 | 3,00 | 8,00 | 2000,00 |\n",
    "| Demanda | 1400,00 | 1560,00 | 300,00 | 150,00 | 570,00 | 520,00 | 4500,00 |\n",
    "\n",
    "*Solução:*\n",
    "\n",
    "Temos um problema do transporte onde 2 filiais suprem a demanda de 6 bairros."
   ]
  },
  {
   "cell_type": "code",
   "execution_count": 32,
   "id": "f6fab4d6",
   "metadata": {},
   "outputs": [
    {
     "name": "stdout",
     "output_type": "stream",
     "text": [
      "((1, 3), (1, 4), (1, 5), (1, 6), (1, 7), (1, 8), (2, 3), (2, 4), (2, 5), (2, 6), (2, 7), (2, 8))"
     ]
    }
   ],
   "source": [
    "# Custos\n",
    "c=[7, 9, 1, 12, 7, 4, 4, 5, 12, 1, 3, 8]\n",
    "# Capacidades e demandas\n",
    "b=[2500, 2000, 1400, 1560, 300, 1250, 570, 520]\n",
    "\n",
    "# Índices das variáveis\n",
    "start_node = [1,1,1,1,1,1,2,2,2,2,2,2]\n",
    "end_node = [3,4,5,6,7,8,3,4,5,6,7,8]\n",
    "\n",
    "links = Tuple( (start_node[i], end_node[i]) for i in 1:length(end_node) )\n",
    "c_dict = Dict(links .=> c)\n",
    "print(links)"
   ]
  },
  {
   "cell_type": "code",
   "execution_count": 33,
   "id": "e5240f3f",
   "metadata": {},
   "outputs": [
    {
     "name": "stdout",
     "output_type": "stream",
     "text": [
      "Min 7 x[(1, 3)] + 9 x[(1, 4)] + x[(1, 5)] + 12 x[(1, 6)] + 7 x[(1, 7)] + 4 x[(1, 8)] + 4 x[(2, 3)] + 5 x[(2, 4)] + 12 x[(2, 5)] + x[(2, 6)] + 3 x[(2, 7)] + 8 x[(2, 8)]\n",
      "Subject to\n",
      " x[(1, 3)] + x[(1, 4)] + x[(1, 5)] + x[(1, 6)] + x[(1, 7)] + x[(1, 8)] == 2500\n",
      " x[(2, 3)] + x[(2, 4)] + x[(2, 5)] + x[(2, 6)] + x[(2, 7)] + x[(2, 8)] == 2000\n",
      " x[(1, 3)] + x[(2, 3)] <= 1400\n",
      " x[(1, 4)] + x[(2, 4)] <= 1560\n",
      " x[(1, 5)] + x[(2, 5)] <= 300\n",
      " x[(1, 6)] + x[(2, 6)] <= 1250\n",
      " x[(1, 7)] + x[(2, 7)] <= 570\n",
      " x[(1, 8)] + x[(2, 8)] <= 520\n",
      " x[(1, 3)] >= 0\n",
      " x[(1, 4)] >= 0\n",
      " x[(1, 5)] >= 0\n",
      " x[(1, 6)] >= 0\n",
      " x[(1, 7)] >= 0\n",
      " x[(1, 8)] >= 0\n",
      " x[(2, 3)] >= 0\n",
      " x[(2, 4)] >= 0\n",
      " x[(2, 5)] >= 0\n",
      " x[(2, 6)] >= 0\n",
      " x[(2, 7)] >= 0\n",
      " x[(2, 8)] >= 0\n",
      "\n"
     ]
    }
   ],
   "source": [
    "# Modelo\n",
    "model = Model(GLPK.Optimizer)\n",
    "\n",
    "# Variáveis\n",
    "@variable(model, x[link in links]>=0)\n",
    "\n",
    "# Função objetivo\n",
    "@objective(model, Min, sum(c_dict[link] * x[link] for link in links))\n",
    "\n",
    "# Restrições de capacidade\n",
    "for i in 1:2\n",
    "   @constraint(model, sum(x[(ii,j)] for (ii,j) in links if ii==i) == b[i])\n",
    "end\n",
    "# Restrições de capacidade\n",
    "for j in 3:8 \n",
    "   @constraint(model, sum(x[(i,jj)] for (i,jj) in links if jj==j) <= b[j])\n",
    "end\n",
    "\n",
    "# Descrição do  modelo\n",
    "println(model)"
   ]
  },
  {
   "cell_type": "code",
   "execution_count": 34,
   "id": "6315603f",
   "metadata": {},
   "outputs": [
    {
     "name": "stdout",
     "output_type": "stream",
     "text": [
      "Função Objetivo: FO=18560.0\n",
      "Valor de x(1, 3) = 1400.0\n",
      "Valor de x(1, 4) = 0.0\n",
      "Valor de x(1, 5) = 300.0\n",
      "Valor de x(1, 6) = 0.0\n",
      "Valor de x(1, 7) = 280.0\n",
      "Valor de x(1, 8) = 520.0\n",
      "Valor de x(2, 3) = 0.0\n",
      "Valor de x(2, 4) = 460.0\n",
      "Valor de x(2, 5) = 0.0\n",
      "Valor de x(2, 6) = 1250.0\n",
      "Valor de x(2, 7) = 290.0\n",
      "Valor de x(2, 8) = 0.0\n"
     ]
    }
   ],
   "source": [
    "# Otimização do modelo\n",
    "optimize!(model)\n",
    "obj = objective_value(model)\n",
    "\n",
    "# Resultados\n",
    "println(\"Função Objetivo: FO=\", obj)\n",
    "for link in links\n",
    "  println(\"Valor de x\",link,\" = \",value(x[link]))\n",
    "end"
   ]
  }
 ],
 "metadata": {
  "kernelspec": {
   "display_name": "Julia 1.9.2",
   "language": "julia",
   "name": "julia-1.9"
  },
  "language_info": {
   "file_extension": ".jl",
   "mimetype": "application/julia",
   "name": "julia",
   "version": "1.9.2"
  }
 },
 "nbformat": 4,
 "nbformat_minor": 5
}
